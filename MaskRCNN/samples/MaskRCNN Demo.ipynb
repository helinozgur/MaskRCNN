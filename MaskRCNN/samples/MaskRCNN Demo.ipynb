{
 "cells": [
  {
   "cell_type": "markdown",
   "metadata": {},
   "source": [
    "# MASKRCNN DEMO ÖRNEĞİ\n",
    "\n",
    "## Başlangıç\n",
    "\n",
    "Önceden eğittiğimiz modelimiz sayesinde seçtiğimiz resimler üzerinde segmentasyon işlemini gerçekleştirip nesneleri tanıyan bir örnek yapıyoruz. "
   ]
  },
  {
   "cell_type": "code",
   "execution_count": null,
   "metadata": {},
   "outputs": [],
   "source": [
    "import os\n",
    "os.environ['TF_CPP_MIN_LOG_LEVEL'] = '2'\n",
    "import sys\n",
    "import random\n",
    "import math\n",
    "import numpy as np\n",
    "import skimage.io\n",
    "import matplotlib\n",
    "import matplotlib.pyplot as plt\n",
    "# Projenin root dosya yolu\n",
    "ROOT_DIR = os.path.abspath(\"../\")\n",
    "# Mask RCNN'i import ediyoruz\n",
    "sys.path.append(ROOT_DIR) \n",
    "from mrcnn import utils\n",
    "import mrcnn.model as modellib\n",
    "from mrcnn import visualize\n",
    "# COCO konfigürasyonlarını entegre ediyoruz\n",
    "sys.path.append(os.path.join(ROOT_DIR, \"samples/coco/\")) \n",
    "import coco\n",
    "%matplotlib inline\n",
    "# loglarımızı kaydetmek için bir dosya yolu oluşturuyoruz\n",
    "MODEL_DIR = os.path.join(ROOT_DIR, \"logs\")\n",
    "# Local path to trained weights file\n",
    "COCO_MODEL_PATH = os.path.join(ROOT_DIR, \"mask_rcnn_coco.h5\")\n",
    "if not os.path.exists(COCO_MODEL_PATH):\n",
    "    utils.download_trained_weights(COCO_MODEL_PATH)\n",
    "# Resimlerimizin dosya yollarını belirtiyoruz\n",
    "IMAGE_DIR = os.path.join(ROOT_DIR, \"images\")"
   ]
  },
  {
   "cell_type": "markdown",
   "metadata": {},
   "source": [
    "## Konfigürasyonlar\n",
    "\n",
    "MS-COCO veri kümesi üzerinde eğitilmiş bir model kullanacağız. Bu modelin konfigürasyonları, coco.py'deki CocoConfig sınıfındadır. "
   ]
  },
  {
   "cell_type": "code",
   "execution_count": null,
   "metadata": {},
   "outputs": [],
   "source": [
    "class InferenceConfig(coco.CocoConfig):\n",
    " # Çıkarım yapacağımız için batch boyutunu 1 olarak ayarladık\n",
    " # Her seferinde bir resim işlenir. Batch size = GPU_COUNT * IMAGES_PER_GPU\n",
    "    GPU_COUNT = 1\n",
    "    IMAGES_PER_GPU = 1\n",
    "config = InferenceConfig()\n",
    "config.display()"
   ]
  },
  {
   "cell_type": "markdown",
   "metadata": {},
   "source": [
    "## Modeli Oluşturma ve Eğitilmiş Ağırlıkları Ekleme"
   ]
  },
  {
   "cell_type": "code",
   "execution_count": null,
   "metadata": {},
   "outputs": [],
   "source": [
    "model = modellib.MaskRCNN(mode=\"inference\", model_dir=MODEL_DIR, config=config)\n",
    "# MS-COCO üzerinden eğitilmiş ağırlıklar eklendi\n",
    "model.load_weights(COCO_MODEL_PATH, by_name=True)"
   ]
  },
  {
   "cell_type": "markdown",
   "metadata": {},
   "source": [
    "## Sınıf İsimleri\n",
    "\n",
    "Model, nesneleri sınıflandırır ve her bir sınıfı tanımlayan tamsayı değeri olan sınıf kimliklerini döndürür. Bazı veri kümeleri diğer sınıflara tamsayı değerleri atarken bazıları vermez. Örneğin, MS-COCO veri kümesinde, 'person' sınıfı 1 ve 'teddy bear' 88'dir.\n",
    "Kimlikler genellikle sıralıdır, ancak her zaman değil. Örneğin, COCO veri kümesinde sınıf kimlikleri 70 ve 72 ile ilişkili sınıflar var, ancak 71 değil. Tutarlılığı iyileştirmek ve aynı anda birden çok kaynaktan gelen verileri taramayı desteklemek için Veri Kümesi sınıfımız, her birine kendi sıralı tam sayı kimlikleri atar. sınıf. Örneğin, Veri Kümesi sınıfımızı kullanarak COCO veri kümesini yüklerseniz, 'kişi' sınıfı, sınıf kimliği = 1 (aynı COCO gibi) ve 'teddy bear' sınıfı 78 alır(COCO'dan farklı).\n",
    "Sınıf adlarının listesini almak için, veri kümesini yükler ve ardından class_names özelliğini aşağıdaki gibi kullanırız.\n",
    "\n",
    "\n",
    "### COCO datasetinin yüklenmesi\n",
    "dataset = coco.CocoDataset()\n",
    "dataset.load_coco(COCO_DIR, \"train\")\n",
    "dataset.prepare()\n",
    "### Sınıf isimlerinin ekranda gösterilmesi\n",
    "print(dataset.class_names)\n"
   ]
  },
  {
   "cell_type": "code",
   "execution_count": null,
   "metadata": {},
   "outputs": [],
   "source": [
    "# COCO Class isimleri\n",
    "#Listedeki classın index numarası o classın IDsidir. \n",
    "#Örneğin, teddy bear sınıfının kimliğini almak için şu kullanılır: class_names.index ('teddy bear')\n",
    "class_names = ['BG', 'person', 'bicycle', 'car', 'motorcycle', 'airplane',\n",
    " 'bus', 'train', 'truck', 'boat', 'traffic light',\n",
    " 'fire hydrant', 'stop sign', 'parking meter', 'bench', 'bird',\n",
    " 'cat', 'dog', 'horse', 'sheep', 'cow', 'elephant', 'bear',\n",
    " 'zebra', 'giraffe', 'backpack', 'umbrella', 'handbag', 'tie',\n",
    " 'suitcase', 'frisbee', 'skis', 'snowboard', 'sports ball',\n",
    " 'kite', 'baseball bat', 'baseball glove', 'skateboard',\n",
    " 'surfboard', 'tennis racket', 'bottle', 'wine glass', 'cup',\n",
    " 'fork', 'knife', 'spoon', 'bowl', 'banana', 'apple',\n",
    " 'sandwich', 'orange', 'broccoli', 'carrot', 'hot dog', 'pizza',\n",
    " 'donut', 'cake', 'chair', 'couch', 'potted plant', 'bed',\n",
    " 'dining table', 'toilet', 'tv', 'laptop', 'mouse', 'remote',\n",
    " 'keyboard', 'cell phone', 'microwave', 'oven', 'toaster',\n",
    " 'sink', 'refrigerator', 'book', 'clock', 'vase', 'scissors',\n",
    " 'teddy bear', 'hair drier', 'toothbrush']"
   ]
  },
  {
   "cell_type": "markdown",
   "metadata": {},
   "source": [
    "## Nesne Tanımayı Başlatma\n",
    "\n",
    "Bu kısımda resimlerimizin bulunduğu images klasöründen rastgele bir resim seçerek o resimdeki nesneleri tanımasını bekliyoruz.\n"
   ]
  },
  {
   "cell_type": "code",
   "execution_count": null,
   "metadata": {},
   "outputs": [],
   "source": [
    "file_names = next(os.walk(IMAGE_DIR))[2]\n",
    "#Seçtiğimiz resmin dosya yolunu yazıyoruz.\n",
    "filename=os.path.join(IMAGE_DIR, '12283150_12d37e6389_z.jpg')\n",
    "image = skimage.io.imread(filename)\n",
    "results = model.detect([image], verbose=1)\n",
    "r = results[0]\n",
    "visualize.display_instances(image, r['rois'], r['masks'], r['class_ids'],\n",
    " class_names, r['scores'])"
   ]
  },
  {
   "cell_type": "code",
   "execution_count": null,
   "metadata": {},
   "outputs": [],
   "source": []
  }
 ],
 "metadata": {
  "kernelspec": {
   "display_name": "Python 3",
   "language": "python",
   "name": "python3"
  },
  "language_info": {
   "codemirror_mode": {
    "name": "ipython",
    "version": 3
   },
   "file_extension": ".py",
   "mimetype": "text/x-python",
   "name": "python",
   "nbconvert_exporter": "python",
   "pygments_lexer": "ipython3",
   "version": "3.8.3"
  }
 },
 "nbformat": 4,
 "nbformat_minor": 4
}
